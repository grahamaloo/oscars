{
 "cells": [
  {
   "cell_type": "code",
   "execution_count": 99,
   "metadata": {
    "collapsed": false
   },
   "outputs": [
    {
     "name": "stdout",
     "output_type": "stream",
     "text": [
      "/var/www/Repositories/oscars/models\n"
     ]
    }
   ],
   "source": [
    "import pandas as pd\n",
    "import numpy as np\n",
    "from bs4 import BeautifulSoup as bs\n",
    "from urllib import request as rq\n",
    "import urllib\n",
    "import re\n",
    "import math\n",
    "import os\n",
    "import csv\n",
    "import time\n",
    "import json\n",
    "import pickle\n",
    "import sys\n",
    "import requests\n",
    "from scipy import stats\n",
    "from math import log\n",
    "\n",
    "from sklearn.cross_decomposition import PLSRegression\n",
    "from sklearn import linear_model\n",
    "from sklearn.metrics import f1_score, precision_score, recall_score\n",
    "import matplotlib.pyplot as plt\n",
    "cwd = os.getcwd()\n",
    "print(cwd)"
   ]
  },
  {
   "cell_type": "code",
   "execution_count": 219,
   "metadata": {
    "collapsed": false,
    "scrolled": true
   },
   "outputs": [
    {
     "name": "stdout",
     "output_type": "stream",
     "text": [
      "['year', 'Academy Award', 'Winner', 'Movie Name', 'Producer', 'IMDB Rating', 'IMDB Votes', 'Tomatometer', 'Average Critic Score', 'Percent Audience Liked', 'Average Audience Score', 'Release Date', 'Production Budget', 'Domestic Gross', 'Worldwide Gross', 'Normalized Budget', 'Normalized Gross', 'Return on Investment']\n",
      "['IMDB Rating', 'IMDB Votes', 'Average Critic Score', 'Average Audience Score', 'Production Budget', 'Worldwide Gross', 'Return on Investment']\n",
      "[[  8.50000000e+00   4.20041000e+05   8.60000000e+00 ...,   3.30000000e+06\n",
      "    3.34743340e+07   1.01437376e+01]\n",
      " [  7.70000000e+00   2.74825000e+05   7.30000000e+00 ...,   1.50000000e+07\n",
      "    1.22147772e+08   8.14318480e+00]\n",
      " [  7.80000000e+00   4.04650000e+05   8.50000000e+00 ...,   1.80000000e+07\n",
      "    1.03215094e+08   5.73417189e+00]\n",
      " ..., \n",
      " [  7.80000000e+00   8.08600000e+03   7.40000000e+00 ...,   2.00000000e+06\n",
      "    0.00000000e+00   0.00000000e+00]\n",
      " [  7.80000000e+00   2.09000000e+03   9.30000000e+00 ...,   0.00000000e+00\n",
      "    0.00000000e+00   0.00000000e+00]\n",
      " [  6.90000000e+00   6.46000000e+02   6.90000000e+00 ...,   6.00000000e+01\n",
      "    0.00000000e+00   0.00000000e+00]]\n"
     ]
    },
    {
     "name": "stderr",
     "output_type": "stream",
     "text": [
      "/home/liam/anaconda3/lib/python3.5/site-packages/ipykernel/__main__.py:15: FutureWarning: convert_objects is deprecated.  Use the data-type specific converters pd.to_datetime, pd.to_timedelta and pd.to_numeric.\n"
     ]
    },
    {
     "data": {
      "text/plain": [
       "LogisticRegression(C=1.0, class_weight=None, dual=False, fit_intercept=True,\n",
       "          intercept_scaling=1, max_iter=1000, multi_class='ovr', n_jobs=1,\n",
       "          penalty='l2', random_state=None, solver='liblinear', tol=0.0001,\n",
       "          verbose=0, warm_start=False)"
      ]
     },
     "execution_count": 219,
     "metadata": {},
     "output_type": "execute_result"
    }
   ],
   "source": [
    "# use AA_bestpictures_Liam_Kimiko_clean.csv\n",
    "# datacsv = open(\"AA_bestpictures_Liam_Kimiko_clean.csv\")\n",
    "datacsv = open(\"../AA_4_computed_new.csv\")\n",
    "\n",
    "reader = list(csv.reader(datacsv, delimiter=',', quotechar='\"'))\n",
    "\n",
    "# print(list(reader))\n",
    "fields = [x.strip() for x in reader.pop(0)]\n",
    "\n",
    "frame = pd.DataFrame(reader, columns=fields).fillna(0).values\n",
    "print(fields)\n",
    "used_fields = fields[5:7] + [fields[8]] + [fields[10]] + [fields[-6]] + [fields[-4]] + [fields[-1]]\n",
    "print(used_fields)\n",
    "\n",
    "X = pd.DataFrame(frame[:,[5,6,8,10,-6,-4,-1]]).convert_objects(convert_numeric=True).fillna(0).values\n",
    "      \n",
    "print(X)\n",
    "# X = [[float(x[5].strip()),int(x[6].strip()),int(x[7].strip()),float(x[8].strip()),int(x[9].strip()),float(x[10].strip())] for x in reader]\n",
    "Y = []\n",
    "\n",
    "X = np.array(X).T\n",
    "X[2] = np.log(X[1]+1) # votes\n",
    "# X[2] = np.log(np.sqrt(100-X[2]+1)+.01) # no longer in reg\n",
    "# X[4] = np.log(np.sqrt(100-X[4]+1)+.01) # no longer in reg\n",
    "\n",
    "# X[3] = np.log(np.sqrt(10-X[3]+.01)+.01) # rotten tomatoes rating\n",
    "# X[5] = np.log(np.sqrt(10-X[5]+.01)+.01) # rotten tomatoes rating\n",
    "\n",
    "\n",
    "X = np.array([(row - row.min()) / (row.max()-row.min()) for row in X])\n",
    "# X[1] = (X[1] - X[1].min()) / (X[1].max()-X[1].min())\n",
    "# print(X[0])\n",
    "X = X.T\n",
    "X = list(X)\n",
    "for x in reader:\n",
    "    ret = 0\n",
    "    if x[2].strip() == \"True\":\n",
    "        ret = 1\n",
    "    Y.append(ret)\n",
    "# for row in reader:\n",
    "#     print (row)\n",
    "\n",
    "XTest = X[-100:]\n",
    "YTest = Y[-100:]\n",
    "XTrain = X[:-100]\n",
    "YTrain = Y[:-100]\n",
    "logreg = linear_model.LogisticRegression(fit_intercept=True,max_iter=1000)\n",
    "logreg.fit(XTrain, YTrain)\n",
    "\n",
    "# pls = PLSRegression(n_components=3, max_iter=30000)\n",
    "# pls.fit(inputs,outputs)\n",
    "# pred = pls.predict(inputs)\n",
    "# pls.score(inputs,outputs)\n",
    "# # pls.get_params()"
   ]
  },
  {
   "cell_type": "code",
   "execution_count": 220,
   "metadata": {
    "collapsed": false
   },
   "outputs": [
    {
     "data": {
      "text/plain": [
       "DescribeResult(nobs=520, minmax=(array([ 0.,  0.,  0.,  0.,  0.,  0.,  0.]), array([ 1.,  1.,  1.,  1.,  1.,  1.,  1.])), mean=array([ 0.75353846,  0.06385881,  0.65861352,  0.83123932,  0.03313351,\n",
       "        0.02978177,  0.02176795]), variance=array([ 0.00619593,  0.01520798,  0.03808063,  0.00750673,  0.00627198,\n",
       "        0.00584901,  0.0044857 ]), skewness=array([-2.87654726,  3.11681346, -0.82473388, -3.61722973,  5.58007109,\n",
       "        6.98170017,  9.95254055]), kurtosis=array([  20.28020022,   12.01049155,    0.51414413,   31.0255276 ,\n",
       "         48.79853048,   70.3481014 ,  124.66472061]))"
      ]
     },
     "execution_count": 220,
     "metadata": {},
     "output_type": "execute_result"
    }
   ],
   "source": [
    "# print(StatsOnly)\n",
    "stats.describe(X)"
   ]
  },
  {
   "cell_type": "code",
   "execution_count": 221,
   "metadata": {
    "collapsed": false
   },
   "outputs": [
    {
     "name": "stdout",
     "output_type": "stream",
     "text": [
      "Our regression has an accuracy of 88.0%\n",
      "[0, 0, 0, 0, 0, 0, 0, 0, 0, 1, 0, 1, 0, 0, 0, 0, 0, 0, 0, 0, 0, 0, 0, 1, 0, 0, 0, 0, 0, 0, 0, 0, 0, 0, 0, 0, 0, 0, 0, 1, 0, 0, 0, 1, 0, 0, 0, 0, 0, 0, 0, 0, 0, 0, 0, 1, 0, 0, 0, 0, 0, 0, 0, 0, 0, 0, 0, 0, 0, 0, 1, 0, 0, 0, 0, 0, 0, 1, 0, 0, 0, 0, 1, 0, 0, 0, 0, 0, 0, 0, 0, 1, 0, 0, 1, 0, 0, 1, 0, 0]\n",
      "[0 0 0 0 0 0 0 0 0 0 0 0 0 0 0 0 0 0 0 0 0 0 0 0 0 0 0 0 0 0 0 0 0 0 0 0 0\n",
      " 0 0 0 0 0 0 0 0 0 0 0 0 0 0 0 0 0 0 0 0 0 0 0 0 0 0 0 0 0 0 0 0 0 0 0 0 0\n",
      " 0 0 0 0 0 0 0 0 0 0 0 0 0 0 0 0 0 0 0 0 0 0 0 0 0 0]\n",
      "12\n",
      "88\n",
      "We predict winners with an accuracy of 0.0%\n",
      "F-score: 0.0 | Precision: 0.0 | Recall: 0.0\n"
     ]
    },
    {
     "name": "stderr",
     "output_type": "stream",
     "text": [
      "/home/liam/anaconda3/lib/python3.5/site-packages/sklearn/metrics/classification.py:1115: UndefinedMetricWarning: F-score is ill-defined and being set to 0.0 due to no true samples.\n",
      "  'recall', 'true', average, warn_for)\n",
      "/home/liam/anaconda3/lib/python3.5/site-packages/sklearn/metrics/classification.py:1115: UndefinedMetricWarning: Recall is ill-defined and being set to 0.0 due to no true samples.\n",
      "  'recall', 'true', average, warn_for)\n"
     ]
    }
   ],
   "source": [
    "score = logreg.score(XTest, YTest)\n",
    "print(\"Our regression has an accuracy of %s%%\" % (score*100))\n",
    "\n",
    "\n",
    "preds =  logreg.predict(XTest)\n",
    "corr = 0\n",
    "for o,e in zip(preds,YTest):\n",
    "    if o == e and o == 1:\n",
    "        corr += 1\n",
    "winners = [y for y in YTest if y == 1]\n",
    "losers = [y for y in YTest if y == 0]\n",
    "print (YTest)\n",
    "print(preds)\n",
    "f1 = f1_score(preds, YTest)\n",
    "prec = precision_score(preds, YTest)\n",
    "rec = recall_score(preds, YTest)\n",
    "print(len(winners))\n",
    "print(len(losers))\n",
    "print(\"We predict winners with an accuracy of %s%%\" % ((corr/len(winners))*100))\n",
    "print('F-score: %s | Precision: %s | Recall: %s' % (f1, prec, rec))"
   ]
  },
  {
   "cell_type": "code",
   "execution_count": 222,
   "metadata": {
    "collapsed": false,
    "scrolled": false
   },
   "outputs": [
    {
     "data": {
      "image/png": "[encoded data removed]",
      "text/plain": [
       "<matplotlib.figure.Figure at 0x7f97c2e13898>"
      ]
     },
     "metadata": {},
     "output_type": "display_data"
    },
    {
     "name": "stdout",
     "output_type": "stream",
     "text": [
      "Clearly our regression is better at predicting losers\n",
      "Ttest_indResult(statistic=118.978715851674, pvalue=8.5893685436928293e-108)\n",
      "Perhaps this is simply because losers occur more frequently and we dont have enough data to counter act this trend\n"
     ]
    }
   ],
   "source": [
    "# gets the prediction strength for each row in Test set\n",
    "# sorts predictions by class and box plots them\n",
    "strengths = logreg.predict_proba(XTest)\n",
    "strengthsSorted = [[],[]]\n",
    "for strenM, out in zip (strengths,YTest):\n",
    "    strengthsSorted[out].append(strenM[out])\n",
    "# print(strengthsSorted)\n",
    "plt.boxplot(strengthsSorted, labels=[\"Losers\", \"Winners\"])\n",
    "plt.show()\n",
    "ttestres = stats.ttest_ind(strengthsSorted[0], strengthsSorted[1])\n",
    "print(\"Clearly our regression is better at predicting losers\")\n",
    "print(ttestres)\n",
    "print(\"Perhaps this is simply because losers occur more frequently and we dont have enough data to counter act this trend\")"
   ]
  },
  {
   "cell_type": "code",
   "execution_count": 223,
   "metadata": {
    "collapsed": false
   },
   "outputs": [
    {
     "name": "stdout",
     "output_type": "stream",
     "text": [
      "IMDB Rating: -0.343001689572\n",
      "IMDB Votes: 1.36691961195\n",
      "Average Critic Score: 0.577440469738\n",
      "Average Audience Score: -0.406537271051\n",
      "Production Budget: -0.272903499241\n",
      "Worldwide Gross: 0.69783373108\n",
      "Return on Investment: 1.34573505719\n",
      "[-1.47415812]\n",
      "[-0.34300169  1.36691961  0.57744047 -0.40653727 -0.2729035   0.69783373\n",
      "  1.34573506]\n",
      "[['IMDB Rating', -0.34300168957186966], ['IMDB Votes', 1.3669196119522085], ['Average Critic Score', 0.57744046973782626], ['Average Audience Score', -0.40653727105115345], ['Production Budget', -0.27290349924072632], ['Worldwide Gross', 0.69783373108027336], ['Return on Investment', 1.3457350571892375]]\n"
     ]
    }
   ],
   "source": [
    "# these are the weights for the models inputs\n",
    "for l,v in zip(used_fields, logreg.coef_[0]):\n",
    "    print(l+ \": \" + str(v))\n",
    "print(logreg.intercept_)\n",
    "print(logreg.coef_[0])\n",
    "print([[l,v] for l,v in zip(used_fields, logreg.coef_[0])])"
   ]
  },
  {
   "cell_type": "code",
   "execution_count": 176,
   "metadata": {
    "collapsed": false,
    "scrolled": false
   },
   "outputs": [
    {
     "data": {
      "image/png": "[encoded data removed]",
      "text/plain": [
       "<matplotlib.figure.Figure at 0x7f97c2f2deb8>"
      ]
     },
     "metadata": {},
     "output_type": "display_data"
    },
    {
     "name": "stdout",
     "output_type": "stream",
     "text": [
      "IMDB Rating\n",
      "Observations: 520\n",
      "Min: 0.0\n",
      "Max: 1.0\n",
      "Mean: 0.753538461538\n",
      "Median: 0.76\n",
      "Standard Dev: 0.078638525873\n",
      "\n",
      "\n",
      "\n",
      "\n"
     ]
    },
    {
     "data": {
      "image/png": "[encoded data removed]",
      "text/plain": [
       "<matplotlib.figure.Figure at 0x7f97c2c7da20>"
      ]
     },
     "metadata": {},
     "output_type": "display_data"
    },
    {
     "name": "stdout",
     "output_type": "stream",
     "text": [
      "Log10 of IMDB Votes\n",
      "Observations: 520\n",
      "Min: 0.0\n",
      "Max: 1.0\n",
      "Mean: 0.658613517697\n",
      "Median: 0.670723214301\n",
      "Standard Dev: 0.194954861745\n",
      "\n",
      "\n",
      "\n",
      "\n"
     ]
    },
    {
     "data": {
      "image/png": "[encoded data removed]",
      "text/plain": [
       "<matplotlib.figure.Figure at 0x7f97c2bd6940>"
      ]
     },
     "metadata": {},
     "output_type": "display_data"
    },
    {
     "name": "stdout",
     "output_type": "stream",
     "text": [
      "Tomatometer\n",
      "Observations: 520\n",
      "Min: 0.0\n",
      "Max: 1.0\n",
      "Mean: 0.472555953652\n",
      "Median: 0.497910588246\n",
      "Standard Dev: 0.240913910944\n",
      "\n",
      "\n",
      "\n",
      "\n"
     ]
    },
    {
     "data": {
      "image/png": "[encoded data removed]",
      "text/plain": [
       "<matplotlib.figure.Figure at 0x7f97c5cc5780>"
      ]
     },
     "metadata": {},
     "output_type": "display_data"
    },
    {
     "name": "stdout",
     "output_type": "stream",
     "text": [
      "Average Critic Score\n",
      "Observations: 520\n",
      "Min: 0.0\n",
      "Max: 1.0\n",
      "Mean: 0.799412955466\n",
      "Median: 0.821052631579\n",
      "Standard Dev: 0.134068260465\n",
      "\n",
      "\n",
      "\n",
      "\n"
     ]
    },
    {
     "data": {
      "image/png": "[encoded data removed]",
      "text/plain": [
       "<matplotlib.figure.Figure at 0x7f97c2bef6d8>"
      ]
     },
     "metadata": {},
     "output_type": "display_data"
    },
    {
     "name": "stdout",
     "output_type": "stream",
     "text": [
      "Percent Audience Liked\n",
      "Observations: 520\n",
      "Min: 0.0\n",
      "Max: 1.0\n",
      "Mean: 0.498756944453\n",
      "Median: 0.492711781699\n",
      "Standard Dev: 0.172024475972\n",
      "\n",
      "\n",
      "\n",
      "\n"
     ]
    },
    {
     "data": {
      "image/png": "[encoded data removed]",
      "text/plain": [
       "<matplotlib.figure.Figure at 0x7f97c2c9eef0>"
      ]
     },
     "metadata": {},
     "output_type": "display_data"
    },
    {
     "name": "stdout",
     "output_type": "stream",
     "text": [
      "Average Audience Score\n",
      "Observations: 520\n",
      "Min: 0.0\n",
      "Max: 1.0\n",
      "Mean: 0.831239316239\n",
      "Median: 0.844444444444\n",
      "Standard Dev: 0.0865580224806\n",
      "\n",
      "\n",
      "\n",
      "\n"
     ]
    },
    {
     "data": {
      "image/png": "[encoded data removed]",
      "text/plain": [
       "<matplotlib.figure.Figure at 0x7f97c2ea2128>"
      ]
     },
     "metadata": {},
     "output_type": "display_data"
    },
    {
     "name": "stdout",
     "output_type": "stream",
     "text": [
      "Release Date\n",
      "Observations: 520\n",
      "Min: 0.0\n",
      "Max: 1.0\n",
      "Mean: 0.0518808147792\n",
      "Median: 0.0\n",
      "Standard Dev: 0.101714303555\n",
      "\n",
      "\n",
      "\n",
      "\n"
     ]
    },
    {
     "data": {
      "image/png": "[encoded data removed]",
      "text/plain": [
       "<matplotlib.figure.Figure at 0x7f97c30058d0>"
      ]
     },
     "metadata": {},
     "output_type": "display_data"
    },
    {
     "name": "stdout",
     "output_type": "stream",
     "text": [
      "Production Budget\n",
      "Observations: 520\n",
      "Min: 0.0\n",
      "Max: 1.0\n",
      "Mean: 0.0297817704119\n",
      "Median: 0.0\n",
      "Standard Dev: 0.0764052734994\n",
      "\n",
      "\n",
      "\n",
      "\n"
     ]
    }
   ],
   "source": [
    "# inputArrs = [[] for i in range(len(X[0]))]\n",
    "# for i in range(len(X[0])):\n",
    "#     inputArrs[i] = [x[i] for x in X]\n",
    "# print(inputArrs)\n",
    "inputArrs = list(np.array(X).T)\n",
    "# for i,x in enumerate(inputArrs[1]):\n",
    "#     if x > 0:\n",
    "#         inputArrs[1][i] = log(x,10)\n",
    "# inputArrs[1] = [log(x,10) for x in inputArrs[1]]\n",
    "\n",
    "for i,arr in enumerate(inputArrs):\n",
    "    plt.hist(arr, label=fields[i+5], range=(0, 1))\n",
    "    plt.show()\n",
    "    if i != 1:\n",
    "        print(fields[i+5])\n",
    "    else:\n",
    "        print(\"Log10 of %s\" % fields[i+5].strip())\n",
    "    desc = stats.describe(arr)\n",
    "    print(\"Observations: %s\" % desc.nobs)\n",
    "    print(\"Min: %s\" % desc.minmax[0])\n",
    "    print(\"Max: %s\" % desc.minmax[1])\n",
    "    print(\"Mean: %s\" % desc.mean)\n",
    "    print(\"Median: %s\" % np.median(arr))\n",
    "    print(\"Standard Dev: %s\" % np.std(arr))\n",
    "    print(\"\\n\")\n",
    "    print(\"\\n\")"
   ]
  },
  {
   "cell_type": "code",
   "execution_count": null,
   "metadata": {
    "collapsed": false
   },
   "outputs": [],
   "source": []
  },
  {
   "cell_type": "code",
   "execution_count": null,
   "metadata": {
    "collapsed": true
   },
   "outputs": [],
   "source": []
  }
 ],
 "metadata": {
  "anaconda-cloud": {},
  "kernelspec": {
   "display_name": "Python [conda root]",
   "language": "python",
   "name": "conda-root-py"
  },
  "language_info": {
   "codemirror_mode": {
    "name": "ipython",
    "version": 3
   },
   "file_extension": ".py",
   "mimetype": "text/x-python",
   "name": "python",
   "nbconvert_exporter": "python",
   "pygments_lexer": "ipython3",
   "version": "3.5.2"
  }
 },
 "nbformat": 4,
 "nbformat_minor": 0
}
